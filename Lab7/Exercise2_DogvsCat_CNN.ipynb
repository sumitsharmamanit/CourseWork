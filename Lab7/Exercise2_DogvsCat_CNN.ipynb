{
  "nbformat": 4,
  "nbformat_minor": 0,
  "metadata": {
    "colab": {
      "name": "Exercise2_DogvsCat_CNN.ipynb",
      "provenance": []
    },
    "kernelspec": {
      "name": "python3",
      "display_name": "Python 3"
    },
    "accelerator": "GPU"
  },
  "cells": [
    {
      "cell_type": "markdown",
      "metadata": {
        "id": "qTh9DiKVslsJ"
      },
      "source": [
        "## Dogs vs. Cats \n",
        "\n",
        "In this competition, you'll write an algorithm to classify whether images contain either a dog or a cat.  This is easy for humans, dogs, and cats. Your computer will find it a bit more difficult.\n",
        "\n",
        "![alt text](https://miro.medium.com/max/3000/1*bhFifratH9DjKqMBTeQG5A.gif)\n",
        "\n",
        "Ref: https://medium.com/@thegrigorian/rolling-in-the-deep-cnn-c8d3f7108c8c"
      ]
    },
    {
      "cell_type": "markdown",
      "metadata": {
        "id": "RSBI-_mSSY1g"
      },
      "source": [
        "Get your API Key from Kaggle using following steps:\n",
        "1. Login to [Kaggle](https://www.kaggle.com/) or Register if you don't have account\n",
        "2. Open Dataset (https://www.kaggle.com/c/dogs-vs-cats/rules) and accept terms and condition. \n",
        "3. On the top right corner click on your Icon and go to accounts and press a button \"Create New API Token\". It will download a JSON file containing your username and key. \n",
        "4. Now, paste both below. \n"
      ]
    },
    {
      "cell_type": "code",
      "metadata": {
        "id": "YmXSOc0tZIGA",
        "colab": {
          "base_uri": "https://localhost:8080/"
        },
        "outputId": "524df85e-91ad-400f-98d4-c7c015e5d2a7"
      },
      "source": [
        "import os\n",
        "os.environ['KAGGLE_USERNAME'] = \"sumitsharmaabz\" # username from the json file\n",
        "os.environ['KAGGLE_KEY'] = \"5b9aaa877ea98d1fc97ed21b264b39bc\" # key from the json file\n",
        "!kaggle competitions download -c dogs-vs-cats # api copied from kaggle (https://www.kaggle.com/c/dogs-vs-cats/data)"
      ],
      "execution_count": 1,
      "outputs": [
        {
          "output_type": "stream",
          "text": [
            "Warning: Looks like you're using an outdated API Version, please consider updating (server 1.5.12 / client 1.5.4)\n",
            "Downloading test1.zip to /content\n",
            "100% 271M/271M [00:02<00:00, 74.2MB/s]\n",
            "100% 271M/271M [00:02<00:00, 113MB/s] \n",
            "Downloading train.zip to /content\n",
            " 96% 522M/543M [00:02<00:00, 249MB/s]\n",
            "100% 543M/543M [00:02<00:00, 211MB/s]\n",
            "Downloading sampleSubmission.csv to /content\n",
            "  0% 0.00/86.8k [00:00<?, ?B/s]\n",
            "100% 86.8k/86.8k [00:00<00:00, 92.5MB/s]\n"
          ],
          "name": "stdout"
        }
      ]
    },
    {
      "cell_type": "code",
      "metadata": {
        "id": "PiwIL8d1n7eS",
        "colab": {
          "base_uri": "https://localhost:8080/"
        },
        "outputId": "3eb54fc6-4109-4e7f-ed65-3ebeda8dae93"
      },
      "source": [
        "# Unzip training data\n",
        "from zipfile import ZipFile\n",
        "file_name = \"/content/train.zip\"\n",
        "with ZipFile(file_name, 'r') as zip:\n",
        "  zip.extractall()\n",
        "  print('done')"
      ],
      "execution_count": 2,
      "outputs": [
        {
          "output_type": "stream",
          "text": [
            "done\n"
          ],
          "name": "stdout"
        }
      ]
    },
    {
      "cell_type": "code",
      "metadata": {
        "id": "sa2Bj5i7pPKV",
        "colab": {
          "base_uri": "https://localhost:8080/"
        },
        "outputId": "5f8d5f50-fc0d-495f-a95d-6b825656e11b"
      },
      "source": [
        "# Get all the paths\n",
        "data_dir_list = os.listdir('/content/train')\n",
        "path, dirs, files = next(os.walk(\"/content/train\"))\n",
        "file_count = len(files)\n",
        "print(file_count)"
      ],
      "execution_count": 3,
      "outputs": [
        {
          "output_type": "stream",
          "text": [
            "25000\n"
          ],
          "name": "stdout"
        }
      ]
    },
    {
      "cell_type": "code",
      "metadata": {
        "id": "0ERlHkfHqpK8"
      },
      "source": [
        "# Make new base directory\n",
        "original_dataset_dir = '/content/train'\n",
        "base_dir = '/content/cats_and_dogs_small'\n",
        "os.mkdir(base_dir)"
      ],
      "execution_count": 4,
      "outputs": []
    },
    {
      "cell_type": "code",
      "metadata": {
        "id": "AANB1UJ6rQhM"
      },
      "source": [
        "train_dir = os.path.join(base_dir, 'train')\n",
        "os.mkdir(train_dir)\n",
        "\n",
        "validation_dir = os.path.join(base_dir, 'validation')\n",
        "os.mkdir(validation_dir)\n",
        "\n",
        "test_dir = os.path.join(base_dir, 'test')\n",
        "os.mkdir(test_dir)\n",
        "\n",
        "train_cats_dir = os.path.join(train_dir, 'cats')\n",
        "os.mkdir(train_cats_dir)\n",
        "\n",
        "train_dogs_dir = os.path.join(train_dir, 'dogs')\n",
        "os.mkdir(train_dogs_dir)\n",
        "\n",
        "validation_cats_dir = os.path.join(validation_dir, 'cats')\n",
        "os.mkdir(validation_cats_dir)\n",
        "\n",
        "validation_dogs_dir = os.path.join(validation_dir, 'dogs')\n",
        "os.mkdir(validation_dogs_dir)\n",
        "\n",
        "test_cats_dir = os.path.join(test_dir, 'cats')\n",
        "os.mkdir(test_cats_dir)\n",
        "\n",
        "test_dogs_dir = os.path.join(test_dir, 'dogs')\n",
        "os.mkdir(test_dogs_dir)"
      ],
      "execution_count": 5,
      "outputs": []
    },
    {
      "cell_type": "code",
      "metadata": {
        "id": "ULRgL9s9rV8T"
      },
      "source": [
        "import shutil\n",
        "fnames = ['cat.{}.jpg'.format(i) for i in range(1000)]\n",
        "for fname in fnames:\n",
        "    src = os.path.join(original_dataset_dir, fname)\n",
        "    dst = os.path.join(train_cats_dir, fname)\n",
        "    #print(src,dst)\n",
        "    shutil.copyfile(src, dst)\n",
        "    \n",
        "fnames = ['cat.{}.jpg'.format(i) for i in range(1000, 1500)]\n",
        "for fname in fnames:\n",
        "    src = os.path.join(original_dataset_dir, fname)\n",
        "    dst = os.path.join(validation_cats_dir, fname)\n",
        "    shutil.copyfile(src, dst)\n",
        "\n",
        "fnames = ['cat.{}.jpg'.format(i) for i in range(1500, 2000)]\n",
        "for fname in fnames:\n",
        "    src = os.path.join(original_dataset_dir, fname)\n",
        "    dst = os.path.join(test_cats_dir, fname)\n",
        "    shutil.copyfile(src, dst)\n",
        "    \n",
        "fnames = ['dog.{}.jpg'.format(i) for i in range(1000)]\n",
        "for fname in fnames:\n",
        "    src = os.path.join(original_dataset_dir, fname)\n",
        "    dst = os.path.join(train_dogs_dir, fname)\n",
        "    shutil.copyfile(src, dst)\n",
        "\n",
        "fnames = ['dog.{}.jpg'.format(i) for i in range(1000, 1500)]\n",
        "for fname in fnames:\n",
        "    src = os.path.join(original_dataset_dir, fname)\n",
        "    dst = os.path.join(validation_dogs_dir, fname)\n",
        "    shutil.copyfile(src, dst)\n",
        "\n",
        "fnames = ['dog.{}.jpg'.format(i) for i in range(1500, 2000)]\n",
        "for fname in fnames:\n",
        "    src = os.path.join(original_dataset_dir, fname)\n",
        "    dst = os.path.join(test_dogs_dir, fname)\n",
        "    shutil.copyfile(src, dst)"
      ],
      "execution_count": 6,
      "outputs": []
    },
    {
      "cell_type": "code",
      "metadata": {
        "id": "ul3XAbIyr7vC",
        "colab": {
          "base_uri": "https://localhost:8080/"
        },
        "outputId": "6179c7ea-97e3-45ba-9a9e-83460054a181"
      },
      "source": [
        "print('total training cat images:', len(os.listdir(train_cats_dir)))\n",
        "print('total training dog images:', len(os.listdir(train_dogs_dir)))\n",
        "print('total validation cat images:', len(os.listdir(validation_cats_dir)))\n",
        "\n",
        "print('total validation dog images:', len(os.listdir(validation_dogs_dir)))\n",
        "print('total test cat images:', len(os.listdir(test_cats_dir)))\n",
        "print('total test dog images:', len(os.listdir(test_dogs_dir)))"
      ],
      "execution_count": 7,
      "outputs": [
        {
          "output_type": "stream",
          "text": [
            "total training cat images: 1000\n",
            "total training dog images: 1000\n",
            "total validation cat images: 500\n",
            "total validation dog images: 500\n",
            "total test cat images: 500\n",
            "total test dog images: 500\n"
          ],
          "name": "stdout"
        }
      ]
    },
    {
      "cell_type": "code",
      "metadata": {
        "id": "o9yTA21_r-ma",
        "colab": {
          "base_uri": "https://localhost:8080/"
        },
        "outputId": "d6124ea1-5f65-45af-8eb6-dfa5b230b979"
      },
      "source": [
        "from keras import layers\n",
        "from keras import models\n",
        "\n",
        "model = models.Sequential()\n",
        "model.add(layers.Conv2D(32, (3, 3), activation='relu', input_shape=(150, 150, 3)))\n",
        "model.add(layers.MaxPooling2D((2, 2)))\n",
        "model.add(layers.Conv2D(64, (3, 3), activation='relu'))\n",
        "model.add(layers.MaxPooling2D((2, 2)))\n",
        "model.add(layers.Conv2D(128, (3, 3), activation='relu'))\n",
        "model.add(layers.MaxPooling2D((2, 2)))\n",
        "model.add(layers.Conv2D(128, (3, 3), activation='relu'))\n",
        "model.add(layers.MaxPooling2D((2, 2)))\n",
        "model.add(layers.Flatten())\n",
        "model.add(layers.Dense(512, activation='relu'))\n",
        "model.add(layers.Dense(1, activation='sigmoid'))\n",
        "model.summary()"
      ],
      "execution_count": 8,
      "outputs": [
        {
          "output_type": "stream",
          "text": [
            "Model: \"sequential\"\n",
            "_________________________________________________________________\n",
            "Layer (type)                 Output Shape              Param #   \n",
            "=================================================================\n",
            "conv2d (Conv2D)              (None, 148, 148, 32)      896       \n",
            "_________________________________________________________________\n",
            "max_pooling2d (MaxPooling2D) (None, 74, 74, 32)        0         \n",
            "_________________________________________________________________\n",
            "conv2d_1 (Conv2D)            (None, 72, 72, 64)        18496     \n",
            "_________________________________________________________________\n",
            "max_pooling2d_1 (MaxPooling2 (None, 36, 36, 64)        0         \n",
            "_________________________________________________________________\n",
            "conv2d_2 (Conv2D)            (None, 34, 34, 128)       73856     \n",
            "_________________________________________________________________\n",
            "max_pooling2d_2 (MaxPooling2 (None, 17, 17, 128)       0         \n",
            "_________________________________________________________________\n",
            "conv2d_3 (Conv2D)            (None, 15, 15, 128)       147584    \n",
            "_________________________________________________________________\n",
            "max_pooling2d_3 (MaxPooling2 (None, 7, 7, 128)         0         \n",
            "_________________________________________________________________\n",
            "flatten (Flatten)            (None, 6272)              0         \n",
            "_________________________________________________________________\n",
            "dense (Dense)                (None, 512)               3211776   \n",
            "_________________________________________________________________\n",
            "dense_1 (Dense)              (None, 1)                 513       \n",
            "=================================================================\n",
            "Total params: 3,453,121\n",
            "Trainable params: 3,453,121\n",
            "Non-trainable params: 0\n",
            "_________________________________________________________________\n"
          ],
          "name": "stdout"
        }
      ]
    },
    {
      "cell_type": "code",
      "metadata": {
        "id": "2mG8wekxsBVS"
      },
      "source": [
        "from keras import optimizers\n",
        "model.compile(loss='binary_crossentropy', \n",
        "              optimizer=optimizers.RMSprop(lr=1e-4),\n",
        "              metrics=['acc'])"
      ],
      "execution_count": 9,
      "outputs": []
    },
    {
      "cell_type": "markdown",
      "metadata": {
        "id": "7zS4Klm8qWp6"
      },
      "source": [
        "## Using ImageDataGenerator to read images from directories\n",
        "As you know by now, data should be formatted into appropriately preprocessed floatingpoint tensors before being fed into the network. Currently, the data sits on a drive as JPEG files, so the steps for getting it into the network are roughly as follows:\n",
        "\n",
        "* Read the picture files.\n",
        "* Decode the JPEG content to RGB grids of pixels.\n",
        "* Convert these into floating-point tensors.\n",
        "* Rescale the pixel values (between 0 and 255) to the [0, 1] interval (as you know, neural networks prefer to deal with small input values).\n",
        "\n",
        "It may seem a bit daunting, but fortunately Keras has utilities to take care of these steps automatically. Keras has a module with image-processing helper tools, located at keras.preprocessing.image. In particular, it contains the class ImageDataGenerator,which lets you quickly set up Python generators that can automatically turn image files on disk into batches of preprocessed tensors."
      ]
    },
    {
      "cell_type": "code",
      "metadata": {
        "id": "XJ7XU7t9sEh6",
        "colab": {
          "base_uri": "https://localhost:8080/"
        },
        "outputId": "ecf76b07-625c-4dd6-e53f-4cfb47050ecd"
      },
      "source": [
        "from keras.preprocessing.image import ImageDataGenerator\n",
        "\n",
        "train_datagen = ImageDataGenerator(rescale=1./255)\n",
        "test_datagen = ImageDataGenerator(rescale=1./255)\n",
        "\n",
        "train_generator = train_datagen.flow_from_directory(train_dir,\n",
        "                                                    target_size=(150, 150), \n",
        "                                                    batch_size=20,\n",
        "                                                    class_mode='binary')\n",
        "\n",
        "validation_generator = test_datagen.flow_from_directory(validation_dir,\n",
        "                                                        target_size=(150, 150),\n",
        "                                                        batch_size=20,\n",
        "                                                        class_mode='binary')"
      ],
      "execution_count": 10,
      "outputs": [
        {
          "output_type": "stream",
          "text": [
            "Found 2000 images belonging to 2 classes.\n",
            "Found 1000 images belonging to 2 classes.\n"
          ],
          "name": "stdout"
        }
      ]
    },
    {
      "cell_type": "markdown",
      "metadata": {
        "id": "SEgLywySqm4u"
      },
      "source": [
        "Let’s fit the model to the data using the generator. You do so using the fit_generator method, the equivalent of fit for data generators like this one. It expects as its first argument a Python generator that will yield batches of inputs and targets indefinitely,like this one does. Because the data is being generated endlessly, the Keras model needs to know how many samples to draw from the generator before declaring anepoch over. This is the role of the `steps_per_epoch` argument: after having drawn `steps_per_epoch` batches from the generator—that is, after having run for `steps_per_epoch` gradient descent steps—the fitting process will go to the next epoch. In this case, batches are 20 samples, so it will take 100 batches until you see your target of 2,000 samples.\n",
        "\n",
        "When using fit_generator, you can pass a validation_data argument, much as with the fit method. It’s important to note that this argument is allowed to be a data generator, but it could also be a tuple of Numpy arrays. If you pass a generator as validation_data, then this generator is expected to yield batches of validation data endlessly; thus you should also specify the validation_steps argument, which tells the process how many batches to draw from the validation generator for evaluation."
      ]
    },
    {
      "cell_type": "code",
      "metadata": {
        "id": "yMyfPphJsJG6",
        "colab": {
          "base_uri": "https://localhost:8080/"
        },
        "outputId": "6470d672-b0d2-493f-f8f5-42158757d9ed"
      },
      "source": [
        "history = model.fit(train_generator,\n",
        "                              steps_per_epoch=100,\n",
        "                              epochs=30,\n",
        "                              validation_data=validation_generator,\n",
        "                              validation_steps=10)"
      ],
      "execution_count": 12,
      "outputs": [
        {
          "output_type": "stream",
          "text": [
            "Epoch 1/30\n",
            "100/100 [==============================] - 7s 70ms/step - loss: 0.6876 - acc: 0.5475 - val_loss: 0.7034 - val_acc: 0.4800\n",
            "Epoch 2/30\n",
            "100/100 [==============================] - 7s 66ms/step - loss: 0.6561 - acc: 0.6170 - val_loss: 0.6429 - val_acc: 0.5900\n",
            "Epoch 3/30\n",
            "100/100 [==============================] - 7s 66ms/step - loss: 0.6090 - acc: 0.6675 - val_loss: 0.6312 - val_acc: 0.6800\n",
            "Epoch 4/30\n",
            "100/100 [==============================] - 7s 65ms/step - loss: 0.5686 - acc: 0.7040 - val_loss: 0.5865 - val_acc: 0.7300\n",
            "Epoch 5/30\n",
            "100/100 [==============================] - 6s 65ms/step - loss: 0.5343 - acc: 0.7360 - val_loss: 0.5236 - val_acc: 0.7000\n",
            "Epoch 6/30\n",
            "100/100 [==============================] - 7s 66ms/step - loss: 0.5033 - acc: 0.7450 - val_loss: 0.5628 - val_acc: 0.6700\n",
            "Epoch 7/30\n",
            "100/100 [==============================] - 7s 66ms/step - loss: 0.4806 - acc: 0.7680 - val_loss: 0.5368 - val_acc: 0.7350\n",
            "Epoch 8/30\n",
            "100/100 [==============================] - 7s 66ms/step - loss: 0.4540 - acc: 0.7825 - val_loss: 0.5154 - val_acc: 0.7650\n",
            "Epoch 9/30\n",
            "100/100 [==============================] - 7s 69ms/step - loss: 0.4309 - acc: 0.8010 - val_loss: 0.5329 - val_acc: 0.7350\n",
            "Epoch 10/30\n",
            "100/100 [==============================] - 7s 66ms/step - loss: 0.4027 - acc: 0.8145 - val_loss: 0.6339 - val_acc: 0.6850\n",
            "Epoch 11/30\n",
            "100/100 [==============================] - 7s 66ms/step - loss: 0.3817 - acc: 0.8390 - val_loss: 0.5888 - val_acc: 0.6850\n",
            "Epoch 12/30\n",
            "100/100 [==============================] - 7s 66ms/step - loss: 0.3445 - acc: 0.8520 - val_loss: 0.5922 - val_acc: 0.6900\n",
            "Epoch 13/30\n",
            "100/100 [==============================] - 7s 65ms/step - loss: 0.3206 - acc: 0.8615 - val_loss: 0.5965 - val_acc: 0.7250\n",
            "Epoch 14/30\n",
            "100/100 [==============================] - 7s 65ms/step - loss: 0.3003 - acc: 0.8785 - val_loss: 0.5844 - val_acc: 0.7500\n",
            "Epoch 15/30\n",
            "100/100 [==============================] - 7s 66ms/step - loss: 0.2773 - acc: 0.8955 - val_loss: 0.7214 - val_acc: 0.6300\n",
            "Epoch 16/30\n",
            "100/100 [==============================] - 7s 66ms/step - loss: 0.2592 - acc: 0.9005 - val_loss: 0.6518 - val_acc: 0.7150\n",
            "Epoch 17/30\n",
            "100/100 [==============================] - 7s 66ms/step - loss: 0.2286 - acc: 0.9195 - val_loss: 0.6124 - val_acc: 0.7400\n",
            "Epoch 18/30\n",
            "100/100 [==============================] - 7s 66ms/step - loss: 0.2106 - acc: 0.9225 - val_loss: 0.7972 - val_acc: 0.6950\n",
            "Epoch 19/30\n",
            "100/100 [==============================] - 7s 66ms/step - loss: 0.1917 - acc: 0.9260 - val_loss: 1.0961 - val_acc: 0.6500\n",
            "Epoch 20/30\n",
            "100/100 [==============================] - 7s 66ms/step - loss: 0.1637 - acc: 0.9390 - val_loss: 0.7617 - val_acc: 0.7350\n",
            "Epoch 21/30\n",
            "100/100 [==============================] - 7s 67ms/step - loss: 0.1517 - acc: 0.9445 - val_loss: 0.8093 - val_acc: 0.7100\n",
            "Epoch 22/30\n",
            "100/100 [==============================] - 7s 67ms/step - loss: 0.1281 - acc: 0.9585 - val_loss: 0.9845 - val_acc: 0.6600\n",
            "Epoch 23/30\n",
            "100/100 [==============================] - 7s 66ms/step - loss: 0.1137 - acc: 0.9615 - val_loss: 0.6077 - val_acc: 0.7500\n",
            "Epoch 24/30\n",
            "100/100 [==============================] - 7s 65ms/step - loss: 0.1090 - acc: 0.9620 - val_loss: 0.8144 - val_acc: 0.7400\n",
            "Epoch 25/30\n",
            "100/100 [==============================] - 7s 66ms/step - loss: 0.0829 - acc: 0.9775 - val_loss: 0.8059 - val_acc: 0.7200\n",
            "Epoch 26/30\n",
            "100/100 [==============================] - 7s 66ms/step - loss: 0.0731 - acc: 0.9795 - val_loss: 1.0114 - val_acc: 0.6950\n",
            "Epoch 27/30\n",
            "100/100 [==============================] - 7s 70ms/step - loss: 0.0652 - acc: 0.9810 - val_loss: 0.9709 - val_acc: 0.7350\n",
            "Epoch 28/30\n",
            "100/100 [==============================] - 8s 75ms/step - loss: 0.0533 - acc: 0.9895 - val_loss: 1.0003 - val_acc: 0.7350\n",
            "Epoch 29/30\n",
            "100/100 [==============================] - 7s 67ms/step - loss: 0.0426 - acc: 0.9890 - val_loss: 0.9316 - val_acc: 0.7300\n",
            "Epoch 30/30\n",
            "100/100 [==============================] - 7s 67ms/step - loss: 0.0442 - acc: 0.9860 - val_loss: 1.4634 - val_acc: 0.6600\n"
          ],
          "name": "stdout"
        }
      ]
    },
    {
      "cell_type": "code",
      "metadata": {
        "id": "MZaZ2HWZsNUi",
        "colab": {
          "base_uri": "https://localhost:8080/",
          "height": 545
        },
        "outputId": "ce7e11ad-c3e8-416c-d6df-8ae4794216a8"
      },
      "source": [
        "model.save('cats_and_dogs_small.h5')\n",
        "\n",
        "import matplotlib.pyplot as plt\n",
        "\n",
        "acc = history.history['acc']\n",
        "val_acc = history.history['val_acc']\n",
        "loss = history.history['loss']\n",
        "val_loss = history.history['val_loss']\n",
        "\n",
        "epochs = range(1, len(acc) + 1)\n",
        "\n",
        "plt.plot(epochs, acc, 'bo', label='Training acc')\n",
        "plt.plot(epochs, val_acc, 'b', label='Validation acc')\n",
        "plt.title('Training and validation accuracy')\n",
        "plt.legend()\n",
        "\n",
        "plt.figure()\n",
        "\n",
        "plt.plot(epochs, loss, 'bo', label='Training loss')\n",
        "plt.plot(epochs, val_loss, 'b', label='Validation loss')\n",
        "plt.title('Training and validation loss')\n",
        "plt.legend()\n",
        "\n",
        "plt.show()"
      ],
      "execution_count": 14,
      "outputs": [
        {
          "output_type": "display_data",
          "data": {
            "image/png": "[encoded data removed]",
            "text/plain": [
              "<Figure size 432x288 with 1 Axes>"
            ]
          },
          "metadata": {
            "tags": [],
            "needs_background": "light"
          }
        },
        {
          "output_type": "display_data",
          "data": {
            "image/png": "[encoded data removed]",
            "text/plain": [
              "<Figure size 432x288 with 1 Axes>"
            ]
          },
          "metadata": {
            "tags": [],
            "needs_background": "light"
          }
        }
      ]
    },
    {
      "cell_type": "markdown",
      "metadata": {
        "id": "XKZmXmBcq_8-"
      },
      "source": [
        "## Convolutional Networks with Dropout\n",
        "\n",
        "![alt text](https://camo.githubusercontent.com/ee6fa1073247cd2c3d241300caf110d7a7541bc5/68747470733a2f2f63646e2d696d616765732d312e6d656469756d2e636f6d2f6d61782f3830302f312a4972644a355067684439596f4f7956415137334d4a772e676966)\n",
        "\n",
        "Ref: https://github.com/mneha4/Training-Neural-Nets---Guidelines"
      ]
    },
    {
      "cell_type": "code",
      "metadata": {
        "id": "wu3cqeYQrDeN"
      },
      "source": [
        "model = models.Sequential()\n",
        "model.add(layers.Conv2D(32, (3, 3), activation='relu',\n",
        "input_shape=(150, 150, 3)))\n",
        "model.add(layers.MaxPooling2D((2, 2)))\n",
        "model.add(layers.Conv2D(64, (3, 3), activation='relu'))\n",
        "model.add(layers.MaxPooling2D((2, 2)))\n",
        "model.add(layers.Conv2D(128, (3, 3), activation='relu'))\n",
        "model.add(layers.MaxPooling2D((2, 2)))\n",
        "model.add(layers.Conv2D(128, (3, 3), activation='relu'))\n",
        "model.add(layers.MaxPooling2D((2, 2)))\n",
        "model.add(layers.Flatten())\n",
        "model.add(layers.Dropout(0.5))\n",
        "model.add(layers.Dense(512, activation='relu'))\n",
        "model.add(layers.Dense(1, activation='sigmoid'))\n",
        "\n",
        "model.compile(loss='binary_crossentropy',\n",
        "              optimizer=optimizers.RMSprop(lr=1e-4),\n",
        "              metrics=['acc'])"
      ],
      "execution_count": 15,
      "outputs": []
    },
    {
      "cell_type": "code",
      "metadata": {
        "id": "QSeLpvY0rH7F",
        "colab": {
          "base_uri": "https://localhost:8080/"
        },
        "outputId": "eb3b8a4d-9696-45f1-ba94-941b39d84301"
      },
      "source": [
        "\n",
        "train_datagen = ImageDataGenerator(rescale=1./255,\n",
        "                                   rotation_range=40,\n",
        "                                   width_shift_range=0.2,\n",
        "                                   height_shift_range=0.2,\n",
        "                                   shear_range=0.2,\n",
        "                                   zoom_range=0.2,\n",
        "                                   horizontal_flip=True,)\n",
        "\n",
        "test_datagen = ImageDataGenerator(rescale=1./255)\n",
        "\n",
        "train_generator = train_datagen.flow_from_directory(train_dir,\n",
        "                                                    target_size=(150, 150),\n",
        "                                                    batch_size=32,\n",
        "                                                    class_mode='binary')\n",
        "\n",
        "validation_generator = test_datagen.flow_from_directory(validation_dir,\n",
        "                                                        target_size=(150, 150),\n",
        "                                                        batch_size=32,\n",
        "                                                        class_mode='binary')\n",
        "\n",
        "history = model.fit(train_generator,\n",
        "                              epochs=20,\n",
        "                              validation_data=validation_generator)"
      ],
      "execution_count": 19,
      "outputs": [
        {
          "output_type": "stream",
          "text": [
            "Found 2000 images belonging to 2 classes.\n",
            "Found 1000 images belonging to 2 classes.\n",
            "Epoch 1/20\n",
            "63/63 [==============================] - 17s 273ms/step - loss: 0.6785 - acc: 0.5530 - val_loss: 0.6806 - val_acc: 0.5170\n",
            "Epoch 2/20\n",
            "63/63 [==============================] - 17s 268ms/step - loss: 0.6611 - acc: 0.5945 - val_loss: 0.6617 - val_acc: 0.5810\n",
            "Epoch 3/20\n",
            "63/63 [==============================] - 17s 271ms/step - loss: 0.6602 - acc: 0.5985 - val_loss: 0.6347 - val_acc: 0.6400\n",
            "Epoch 4/20\n",
            "63/63 [==============================] - 17s 270ms/step - loss: 0.6432 - acc: 0.6170 - val_loss: 0.6367 - val_acc: 0.6080\n",
            "Epoch 5/20\n",
            "63/63 [==============================] - 17s 272ms/step - loss: 0.6292 - acc: 0.6380 - val_loss: 0.6158 - val_acc: 0.6480\n",
            "Epoch 6/20\n",
            "63/63 [==============================] - 17s 274ms/step - loss: 0.6194 - acc: 0.6440 - val_loss: 0.5924 - val_acc: 0.6860\n",
            "Epoch 7/20\n",
            "63/63 [==============================] - 17s 273ms/step - loss: 0.6095 - acc: 0.6605 - val_loss: 0.5742 - val_acc: 0.6880\n",
            "Epoch 8/20\n",
            "63/63 [==============================] - 17s 275ms/step - loss: 0.6076 - acc: 0.6710 - val_loss: 0.5703 - val_acc: 0.7010\n",
            "Epoch 9/20\n",
            "63/63 [==============================] - 17s 274ms/step - loss: 0.5921 - acc: 0.6770 - val_loss: 0.5726 - val_acc: 0.6910\n",
            "Epoch 10/20\n",
            "63/63 [==============================] - 17s 274ms/step - loss: 0.5940 - acc: 0.6835 - val_loss: 0.5568 - val_acc: 0.7110\n",
            "Epoch 11/20\n",
            "63/63 [==============================] - 17s 275ms/step - loss: 0.5896 - acc: 0.6805 - val_loss: 0.5686 - val_acc: 0.6990\n",
            "Epoch 12/20\n",
            "63/63 [==============================] - 17s 272ms/step - loss: 0.5810 - acc: 0.7030 - val_loss: 0.5509 - val_acc: 0.7160\n",
            "Epoch 13/20\n",
            "63/63 [==============================] - 17s 273ms/step - loss: 0.5807 - acc: 0.6945 - val_loss: 0.5474 - val_acc: 0.7120\n",
            "Epoch 14/20\n",
            "63/63 [==============================] - 17s 272ms/step - loss: 0.5782 - acc: 0.6955 - val_loss: 0.5442 - val_acc: 0.7190\n",
            "Epoch 15/20\n",
            "63/63 [==============================] - 17s 272ms/step - loss: 0.5691 - acc: 0.7110 - val_loss: 0.5495 - val_acc: 0.7150\n",
            "Epoch 16/20\n",
            "63/63 [==============================] - 17s 268ms/step - loss: 0.5666 - acc: 0.7115 - val_loss: 0.5909 - val_acc: 0.6790\n",
            "Epoch 17/20\n",
            "63/63 [==============================] - 17s 268ms/step - loss: 0.5647 - acc: 0.7010 - val_loss: 0.5486 - val_acc: 0.7160\n",
            "Epoch 18/20\n",
            "63/63 [==============================] - 17s 269ms/step - loss: 0.5627 - acc: 0.7135 - val_loss: 0.5448 - val_acc: 0.7100\n",
            "Epoch 19/20\n",
            "63/63 [==============================] - 17s 273ms/step - loss: 0.5488 - acc: 0.7180 - val_loss: 0.5367 - val_acc: 0.7300\n",
            "Epoch 20/20\n",
            "63/63 [==============================] - 17s 271ms/step - loss: 0.5600 - acc: 0.7040 - val_loss: 0.5250 - val_acc: 0.7420\n"
          ],
          "name": "stdout"
        }
      ]
    },
    {
      "cell_type": "markdown",
      "metadata": {
        "id": "BRdU5yrkUF_b"
      },
      "source": [
        "# Task 2:\n",
        "\n",
        "We have used Dropout to enhance the performance of the CNN model. Can you please use whatever you like to further enhance the performance from `val_acc: 0.7506`? "
      ]
    },
    {
      "cell_type": "code",
      "metadata": {
        "colab": {
          "base_uri": "https://localhost:8080/"
        },
        "id": "Pey-H3KHPQKc",
        "outputId": "2ae803a3-a78b-4a32-f9f2-d1a8572c9529"
      },
      "source": [
        "train_datagen = ImageDataGenerator(rescale=1./255,\n",
        "                                   rotation_range=20,\n",
        "                                   width_shift_range=0.1,\n",
        "                                   height_shift_range=0.1,\n",
        "                                   shear_range=0.1,\n",
        "                                   zoom_range=0.1,\n",
        "                                   horizontal_flip=True,)\n",
        "\n",
        "test_datagen = ImageDataGenerator(rescale=1./255)\n",
        "\n",
        "train_generator = train_datagen.flow_from_directory(train_dir,\n",
        "                                                    target_size=(150, 150),\n",
        "                                                    batch_size=8,\n",
        "                                                    class_mode='binary')\n",
        "\n",
        "validation_generator = test_datagen.flow_from_directory(validation_dir,\n",
        "                                                        target_size=(150, 150),\n",
        "                                                        batch_size=8,\n",
        "                                                        class_mode='binary')"
      ],
      "execution_count": 20,
      "outputs": [
        {
          "output_type": "stream",
          "text": [
            "Found 2000 images belonging to 2 classes.\n",
            "Found 1000 images belonging to 2 classes.\n"
          ],
          "name": "stdout"
        }
      ]
    },
    {
      "cell_type": "code",
      "metadata": {
        "id": "617-w23yKW5x"
      },
      "source": [
        "model = models.Sequential()\n",
        "model.add(layers.Conv2D(32, (3, 3), activation='relu',\n",
        "input_shape=(150, 150, 3)))\n",
        "model.add(layers.Activation('relu'))\n",
        "model.add(layers.MaxPooling2D((2, 2)))\n",
        "\n",
        "model.add(layers.Conv2D(64, (3, 3), activation='relu'))\n",
        "model.add(layers.MaxPooling2D((2, 2)))\n",
        "\n",
        "model.add(layers.Conv2D(128, (3, 3), activation='relu'))\n",
        "model.add(layers.MaxPooling2D((2, 2)))\n",
        "\n",
        "model.add(layers.Conv2D(256, (3, 3)))\n",
        "model.add(layers.BatchNormalization())\n",
        "model.add(layers.Activation('relu'))\n",
        "model.add(layers.MaxPooling2D((2, 2)))\n",
        "\n",
        "model.add(layers.Flatten())\n",
        "\n",
        "model.add(layers.Dropout(0.5))\n",
        "model.add(layers.Dense(512, activation='relu'))\n",
        "\n",
        "model.add(layers.Dense(1, activation='sigmoid'))\n",
        "\n",
        "model.compile(loss='binary_crossentropy',\n",
        "              optimizer='adam',\n",
        "              metrics=['accuracy'])"
      ],
      "execution_count": 21,
      "outputs": []
    },
    {
      "cell_type": "code",
      "metadata": {
        "id": "qYonH44yK_F5"
      },
      "source": [
        "import keras"
      ],
      "execution_count": 22,
      "outputs": []
    },
    {
      "cell_type": "code",
      "metadata": {
        "colab": {
          "base_uri": "https://localhost:8080/"
        },
        "id": "iWcFZbTtKZuE",
        "outputId": "4f0ce573-853c-4d01-8661-4a73308d8e43"
      },
      "source": [
        "checkpoint = keras.callbacks.ModelCheckpoint('models/best_cat_dog.h5', \n",
        "                                             monitor='val_accuracy', \n",
        "                                             verbose=1, \n",
        "                                             save_best_only=True, \n",
        "                                             mode='max')\n",
        "\n",
        "history = model.fit(train_generator,\n",
        "                              epochs=50,\n",
        "                              validation_data=validation_generator,\n",
        "                              callbacks=[checkpoint])"
      ],
      "execution_count": 24,
      "outputs": [
        {
          "output_type": "stream",
          "text": [
            "Epoch 1/50\n",
            "250/250 [==============================] - 18s 72ms/step - loss: 0.6749 - accuracy: 0.5980 - val_loss: 0.6889 - val_accuracy: 0.5030\n",
            "\n",
            "Epoch 00001: val_accuracy improved from -inf to 0.50300, saving model to models/best_cat_dog.h5\n",
            "Epoch 2/50\n",
            "250/250 [==============================] - 18s 72ms/step - loss: 0.6466 - accuracy: 0.6240 - val_loss: 0.7492 - val_accuracy: 0.5030\n",
            "\n",
            "Epoch 00002: val_accuracy did not improve from 0.50300\n",
            "Epoch 3/50\n",
            "250/250 [==============================] - 18s 73ms/step - loss: 0.6362 - accuracy: 0.6420 - val_loss: 1.2020 - val_accuracy: 0.5230\n",
            "\n",
            "Epoch 00003: val_accuracy improved from 0.50300 to 0.52300, saving model to models/best_cat_dog.h5\n",
            "Epoch 4/50\n",
            "250/250 [==============================] - 18s 73ms/step - loss: 0.6286 - accuracy: 0.6520 - val_loss: 0.6694 - val_accuracy: 0.5900\n",
            "\n",
            "Epoch 00004: val_accuracy improved from 0.52300 to 0.59000, saving model to models/best_cat_dog.h5\n",
            "Epoch 5/50\n",
            "250/250 [==============================] - 18s 72ms/step - loss: 0.6171 - accuracy: 0.6635 - val_loss: 0.8918 - val_accuracy: 0.5480\n",
            "\n",
            "Epoch 00005: val_accuracy did not improve from 0.59000\n",
            "Epoch 6/50\n",
            "250/250 [==============================] - 18s 73ms/step - loss: 0.5946 - accuracy: 0.6830 - val_loss: 0.7076 - val_accuracy: 0.5440\n",
            "\n",
            "Epoch 00006: val_accuracy did not improve from 0.59000\n",
            "Epoch 7/50\n",
            "250/250 [==============================] - 18s 73ms/step - loss: 0.6037 - accuracy: 0.6710 - val_loss: 0.6546 - val_accuracy: 0.6490\n",
            "\n",
            "Epoch 00007: val_accuracy improved from 0.59000 to 0.64900, saving model to models/best_cat_dog.h5\n",
            "Epoch 8/50\n",
            "250/250 [==============================] - 18s 72ms/step - loss: 0.5906 - accuracy: 0.6830 - val_loss: 0.7457 - val_accuracy: 0.5870\n",
            "\n",
            "Epoch 00008: val_accuracy did not improve from 0.64900\n",
            "Epoch 9/50\n",
            "250/250 [==============================] - 18s 72ms/step - loss: 0.5698 - accuracy: 0.7115 - val_loss: 0.6499 - val_accuracy: 0.6140\n",
            "\n",
            "Epoch 00009: val_accuracy did not improve from 0.64900\n",
            "Epoch 10/50\n",
            "250/250 [==============================] - 18s 72ms/step - loss: 0.5824 - accuracy: 0.6975 - val_loss: 0.5437 - val_accuracy: 0.7420\n",
            "\n",
            "Epoch 00010: val_accuracy improved from 0.64900 to 0.74200, saving model to models/best_cat_dog.h5\n",
            "Epoch 11/50\n",
            "250/250 [==============================] - 18s 73ms/step - loss: 0.5603 - accuracy: 0.7375 - val_loss: 0.6684 - val_accuracy: 0.6320\n",
            "\n",
            "Epoch 00011: val_accuracy did not improve from 0.74200\n",
            "Epoch 12/50\n",
            "250/250 [==============================] - 18s 73ms/step - loss: 0.5489 - accuracy: 0.7175 - val_loss: 0.5256 - val_accuracy: 0.7390\n",
            "\n",
            "Epoch 00012: val_accuracy did not improve from 0.74200\n",
            "Epoch 13/50\n",
            "250/250 [==============================] - 18s 72ms/step - loss: 0.5286 - accuracy: 0.7385 - val_loss: 0.5240 - val_accuracy: 0.7540\n",
            "\n",
            "Epoch 00013: val_accuracy improved from 0.74200 to 0.75400, saving model to models/best_cat_dog.h5\n",
            "Epoch 14/50\n",
            "250/250 [==============================] - 18s 73ms/step - loss: 0.5240 - accuracy: 0.7575 - val_loss: 0.5708 - val_accuracy: 0.7210\n",
            "\n",
            "Epoch 00014: val_accuracy did not improve from 0.75400\n",
            "Epoch 15/50\n",
            "250/250 [==============================] - 18s 72ms/step - loss: 0.5307 - accuracy: 0.7465 - val_loss: 0.5137 - val_accuracy: 0.7540\n",
            "\n",
            "Epoch 00015: val_accuracy did not improve from 0.75400\n",
            "Epoch 16/50\n",
            "250/250 [==============================] - 18s 72ms/step - loss: 0.5175 - accuracy: 0.7460 - val_loss: 0.4962 - val_accuracy: 0.7780\n",
            "\n",
            "Epoch 00016: val_accuracy improved from 0.75400 to 0.77800, saving model to models/best_cat_dog.h5\n",
            "Epoch 17/50\n",
            "250/250 [==============================] - 18s 72ms/step - loss: 0.5098 - accuracy: 0.7520 - val_loss: 0.7346 - val_accuracy: 0.6150\n",
            "\n",
            "Epoch 00017: val_accuracy did not improve from 0.77800\n",
            "Epoch 18/50\n",
            "250/250 [==============================] - 18s 72ms/step - loss: 0.5073 - accuracy: 0.7525 - val_loss: 0.5124 - val_accuracy: 0.7520\n",
            "\n",
            "Epoch 00018: val_accuracy did not improve from 0.77800\n",
            "Epoch 19/50\n",
            "250/250 [==============================] - 18s 72ms/step - loss: 0.4905 - accuracy: 0.7625 - val_loss: 0.5076 - val_accuracy: 0.7650\n",
            "\n",
            "Epoch 00019: val_accuracy did not improve from 0.77800\n",
            "Epoch 20/50\n",
            "250/250 [==============================] - 18s 73ms/step - loss: 0.4994 - accuracy: 0.7660 - val_loss: 0.4914 - val_accuracy: 0.7710\n",
            "\n",
            "Epoch 00020: val_accuracy did not improve from 0.77800\n",
            "Epoch 21/50\n",
            "250/250 [==============================] - 18s 73ms/step - loss: 0.4953 - accuracy: 0.7540 - val_loss: 0.6308 - val_accuracy: 0.6880\n",
            "\n",
            "Epoch 00021: val_accuracy did not improve from 0.77800\n",
            "Epoch 22/50\n",
            "250/250 [==============================] - 18s 72ms/step - loss: 0.4770 - accuracy: 0.7595 - val_loss: 0.4546 - val_accuracy: 0.7840\n",
            "\n",
            "Epoch 00022: val_accuracy improved from 0.77800 to 0.78400, saving model to models/best_cat_dog.h5\n",
            "Epoch 23/50\n",
            "250/250 [==============================] - 18s 73ms/step - loss: 0.4725 - accuracy: 0.7720 - val_loss: 0.4800 - val_accuracy: 0.7620\n",
            "\n",
            "Epoch 00023: val_accuracy did not improve from 0.78400\n",
            "Epoch 24/50\n",
            "250/250 [==============================] - 18s 72ms/step - loss: 0.4682 - accuracy: 0.7820 - val_loss: 0.4818 - val_accuracy: 0.7780\n",
            "\n",
            "Epoch 00024: val_accuracy did not improve from 0.78400\n",
            "Epoch 25/50\n",
            "250/250 [==============================] - 18s 73ms/step - loss: 0.4735 - accuracy: 0.7710 - val_loss: 0.5173 - val_accuracy: 0.7860\n",
            "\n",
            "Epoch 00025: val_accuracy improved from 0.78400 to 0.78600, saving model to models/best_cat_dog.h5\n",
            "Epoch 26/50\n",
            "250/250 [==============================] - 18s 72ms/step - loss: 0.4534 - accuracy: 0.7800 - val_loss: 0.4591 - val_accuracy: 0.7940\n",
            "\n",
            "Epoch 00026: val_accuracy improved from 0.78600 to 0.79400, saving model to models/best_cat_dog.h5\n",
            "Epoch 27/50\n",
            "250/250 [==============================] - 18s 73ms/step - loss: 0.4809 - accuracy: 0.7750 - val_loss: 0.5620 - val_accuracy: 0.7240\n",
            "\n",
            "Epoch 00027: val_accuracy did not improve from 0.79400\n",
            "Epoch 28/50\n",
            "250/250 [==============================] - 18s 72ms/step - loss: 0.4438 - accuracy: 0.7925 - val_loss: 0.4867 - val_accuracy: 0.7490\n",
            "\n",
            "Epoch 00028: val_accuracy did not improve from 0.79400\n",
            "Epoch 29/50\n",
            "250/250 [==============================] - 18s 73ms/step - loss: 0.4342 - accuracy: 0.7865 - val_loss: 0.8109 - val_accuracy: 0.6540\n",
            "\n",
            "Epoch 00029: val_accuracy did not improve from 0.79400\n",
            "Epoch 30/50\n",
            "250/250 [==============================] - 18s 73ms/step - loss: 0.4337 - accuracy: 0.8000 - val_loss: 0.5214 - val_accuracy: 0.7840\n",
            "\n",
            "Epoch 00030: val_accuracy did not improve from 0.79400\n",
            "Epoch 31/50\n",
            "250/250 [==============================] - 18s 73ms/step - loss: 0.4420 - accuracy: 0.7935 - val_loss: 0.4438 - val_accuracy: 0.8080\n",
            "\n",
            "Epoch 00031: val_accuracy improved from 0.79400 to 0.80800, saving model to models/best_cat_dog.h5\n",
            "Epoch 32/50\n",
            "250/250 [==============================] - 18s 73ms/step - loss: 0.4236 - accuracy: 0.8095 - val_loss: 0.4888 - val_accuracy: 0.7710\n",
            "\n",
            "Epoch 00032: val_accuracy did not improve from 0.80800\n",
            "Epoch 33/50\n",
            "250/250 [==============================] - 18s 73ms/step - loss: 0.4320 - accuracy: 0.7940 - val_loss: 0.6828 - val_accuracy: 0.7180\n",
            "\n",
            "Epoch 00033: val_accuracy did not improve from 0.80800\n",
            "Epoch 34/50\n",
            "250/250 [==============================] - 18s 72ms/step - loss: 0.4386 - accuracy: 0.7870 - val_loss: 0.4778 - val_accuracy: 0.7910\n",
            "\n",
            "Epoch 00034: val_accuracy did not improve from 0.80800\n",
            "Epoch 35/50\n",
            "250/250 [==============================] - 18s 72ms/step - loss: 0.4107 - accuracy: 0.8155 - val_loss: 0.6180 - val_accuracy: 0.7270\n",
            "\n",
            "Epoch 00035: val_accuracy did not improve from 0.80800\n",
            "Epoch 36/50\n",
            "250/250 [==============================] - 18s 72ms/step - loss: 0.4313 - accuracy: 0.8050 - val_loss: 1.0397 - val_accuracy: 0.6250\n",
            "\n",
            "Epoch 00036: val_accuracy did not improve from 0.80800\n",
            "Epoch 37/50\n",
            "250/250 [==============================] - 18s 72ms/step - loss: 0.4251 - accuracy: 0.8060 - val_loss: 0.4670 - val_accuracy: 0.7740\n",
            "\n",
            "Epoch 00037: val_accuracy did not improve from 0.80800\n",
            "Epoch 38/50\n",
            "250/250 [==============================] - 18s 73ms/step - loss: 0.4118 - accuracy: 0.8125 - val_loss: 0.4486 - val_accuracy: 0.8080\n",
            "\n",
            "Epoch 00038: val_accuracy did not improve from 0.80800\n",
            "Epoch 39/50\n",
            "250/250 [==============================] - 18s 73ms/step - loss: 0.4078 - accuracy: 0.8095 - val_loss: 0.6161 - val_accuracy: 0.7340\n",
            "\n",
            "Epoch 00039: val_accuracy did not improve from 0.80800\n",
            "Epoch 40/50\n",
            "250/250 [==============================] - 18s 72ms/step - loss: 0.3822 - accuracy: 0.8330 - val_loss: 0.6394 - val_accuracy: 0.6840\n",
            "\n",
            "Epoch 00040: val_accuracy did not improve from 0.80800\n",
            "Epoch 41/50\n",
            "250/250 [==============================] - 18s 72ms/step - loss: 0.3970 - accuracy: 0.8195 - val_loss: 0.5012 - val_accuracy: 0.7970\n",
            "\n",
            "Epoch 00041: val_accuracy did not improve from 0.80800\n",
            "Epoch 42/50\n",
            "250/250 [==============================] - 18s 71ms/step - loss: 0.3884 - accuracy: 0.8335 - val_loss: 0.5537 - val_accuracy: 0.7760\n",
            "\n",
            "Epoch 00042: val_accuracy did not improve from 0.80800\n",
            "Epoch 43/50\n",
            "250/250 [==============================] - 18s 72ms/step - loss: 0.3915 - accuracy: 0.8265 - val_loss: 0.5084 - val_accuracy: 0.7830\n",
            "\n",
            "Epoch 00043: val_accuracy did not improve from 0.80800\n",
            "Epoch 44/50\n",
            "250/250 [==============================] - 18s 71ms/step - loss: 0.3692 - accuracy: 0.8350 - val_loss: 0.4174 - val_accuracy: 0.8300\n",
            "\n",
            "Epoch 00044: val_accuracy improved from 0.80800 to 0.83000, saving model to models/best_cat_dog.h5\n",
            "Epoch 45/50\n",
            "250/250 [==============================] - 18s 72ms/step - loss: 0.3915 - accuracy: 0.8230 - val_loss: 0.7682 - val_accuracy: 0.7420\n",
            "\n",
            "Epoch 00045: val_accuracy did not improve from 0.83000\n",
            "Epoch 46/50\n",
            "250/250 [==============================] - 18s 71ms/step - loss: 0.3818 - accuracy: 0.8275 - val_loss: 0.6260 - val_accuracy: 0.7700\n",
            "\n",
            "Epoch 00046: val_accuracy did not improve from 0.83000\n",
            "Epoch 47/50\n",
            "250/250 [==============================] - 18s 72ms/step - loss: 0.3900 - accuracy: 0.8140 - val_loss: 0.4554 - val_accuracy: 0.8190\n",
            "\n",
            "Epoch 00047: val_accuracy did not improve from 0.83000\n",
            "Epoch 48/50\n",
            "250/250 [==============================] - 18s 71ms/step - loss: 0.3767 - accuracy: 0.8380 - val_loss: 0.5906 - val_accuracy: 0.7520\n",
            "\n",
            "Epoch 00048: val_accuracy did not improve from 0.83000\n",
            "Epoch 49/50\n",
            "250/250 [==============================] - 18s 71ms/step - loss: 0.3686 - accuracy: 0.8280 - val_loss: 0.6071 - val_accuracy: 0.7450\n",
            "\n",
            "Epoch 00049: val_accuracy did not improve from 0.83000\n",
            "Epoch 50/50\n",
            "250/250 [==============================] - 18s 71ms/step - loss: 0.3814 - accuracy: 0.8240 - val_loss: 0.4597 - val_accuracy: 0.7870\n",
            "\n",
            "Epoch 00050: val_accuracy did not improve from 0.83000\n"
          ],
          "name": "stdout"
        }
      ]
    }
  ]
}
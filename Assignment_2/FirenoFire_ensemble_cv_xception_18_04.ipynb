{
  "nbformat": 4,
  "nbformat_minor": 0,
  "metadata": {
    "accelerator": "GPU",
    "colab": {
      "name": "FirenoFire_ensemble_cv_xception_18_04.ipynb",
      "provenance": [],
      "collapsed_sections": []
    },
    "kernelspec": {
      "display_name": "Python 3",
      "language": "python",
      "name": "python3"
    },
    "language_info": {
      "codemirror_mode": {
        "name": "ipython",
        "version": 3
      },
      "file_extension": ".py",
      "mimetype": "text/x-python",
      "name": "python",
      "nbconvert_exporter": "python",
      "pygments_lexer": "ipython3",
      "version": "3.8.3"
    }
  },
  "cells": [
    {
      "cell_type": "code",
      "metadata": {
        "id": "fDAKdlYNFKTk",
        "colab": {
          "base_uri": "https://localhost:8080/"
        },
        "outputId": "70e7d88c-a80a-4ba4-e11b-1c997a0a6639"
      },
      "source": [
        "# from google.colab import drive\n",
        "# drive.mount('/content/gdrive')"
      ],
      "execution_count": 1,
      "outputs": [
        {
          "output_type": "stream",
          "text": [
            "Mounted at /content/gdrive\n"
          ],
          "name": "stdout"
        }
      ]
    },
    {
      "cell_type": "code",
      "metadata": {
        "id": "M-maSIBHDm9I"
      },
      "source": [
        "# !cp \"/content/gdrive/MyDrive/DS_Assignment/Test.zip\" \"/content/\"\n",
        "# !unzip \"/content/Test.zip\"\n",
        "# !rm -rf \"/content/Test.zip\" \n",
        "\n",
        "# !cp \"/content/gdrive/MyDrive/DS_Assignment/Trainning.zip\" \"/content/\"\n",
        "# !unzip \"/content/Trainning.zip\"\n",
        "# !rm -rf \"/content/Trainning.zip\"\n",
        "\n",
        "# !cp \"/content/gdrive/MyDrive/DS_Assignment/Training_refined.zip\" \"/content/\"\n",
        "# !unzip \"/content/Training_refined.zip\"\n",
        "# !rm -rf \"/content/Training_refined.zip\""
      ],
      "execution_count": null,
      "outputs": []
    },
    {
      "cell_type": "code",
      "metadata": {
        "id": "2tV_fbZkLwns"
      },
      "source": [
        "import pandas as pd\n",
        "import numpy as np\n",
        "import os\n",
        "import matplotlib.pyplot as plt\n",
        "import cv2\n",
        "import time\n",
        "import seaborn as sns\n",
        "from sklearn.metrics import classification_report, confusion_matrix\n",
        "import tensorflow as tf\n",
        "from tensorflow import keras\n",
        "from tensorflow.keras.models import Sequential, Model\n",
        "from tensorflow.keras.layers import Conv2D, MaxPooling2D, Input, Activation, Flatten, Dense, Dropout\n",
        "from tensorflow.keras.preprocessing.image import ImageDataGenerator\n",
        "from tensorflow.keras.callbacks import EarlyStopping, ModelCheckpoint\n",
        "\n",
        "from tensorflow.keras.applications import Xception\n",
        "\n",
        "# from tensorflow.keras.applications import InceptionV3"
      ],
      "execution_count": 4,
      "outputs": []
    },
    {
      "cell_type": "code",
      "metadata": {
        "id": "KaZR2lE6OzJq"
      },
      "source": [
        "# train_dir = \"/content/Trainning/\"\n",
        "train_dir = \"/content/Training_refined/\"\n",
        "test_dir = \"/content/Test/\"\n",
        "\n",
        "IMG_SIZE = 254\n",
        "NB_CHANNELS = 3\n",
        "BATCH_SIZE = 8\n",
        "NB_TRAIN_IMG = 39375\n",
        "NB_VALID_IMG = 8617"
      ],
      "execution_count": 6,
      "outputs": []
    },
    {
      "cell_type": "code",
      "metadata": {
        "scrolled": false,
        "id": "HNS-cngFE-nj"
      },
      "source": [
        "# lower = [0, 100, 100]\n",
        "# upper = [35, 255, 255]\n",
        "# lower = np.array(lower, dtype=\"uint8\")\n",
        "# upper = np.array(upper, dtype=\"uint8\")\n",
        "\n",
        "# def display(imgage, img_name):\n",
        "#     plt.figure(figsize=(15,10))\n",
        "#     plt.imshow(imgage)                                                                       \n",
        "#     plt.title(img_name)\n",
        "#     plt.show()\n",
        "    \n",
        "# def hsv2gray(input_path, flag=False):\n",
        "#     img_bgr = cv2.imread(input_path)\n",
        "#     img_blur = cv2.GaussianBlur(img_bgr.copy(), (1,1), 10)\n",
        "#     img_hsv = cv2.cvtColor(img_blur, cv2.COLOR_BGR2HSV)\n",
        "    \n",
        "#     if flag:\n",
        "#         img_hsv[:,:,2] += 50\n",
        "\n",
        "#     mask = cv2.inRange(img_hsv, lower, upper)\n",
        "\n",
        "#     if np.any(mask):\n",
        "#         return 1\n",
        "#     return 0"
      ],
      "execution_count": null,
      "outputs": []
    },
    {
      "cell_type": "code",
      "metadata": {
        "id": "_KnYaXcpE-nk"
      },
      "source": [
        "# train_fire = os.listdir(train_dir+\"Fire/\")\n",
        "# train_nofire = os.listdir(train_dir+\"No_Fire/\")\n",
        "# file_path= []\n",
        "# types =[]\n",
        "\n",
        "# for i in train_fire:\n",
        "#     inp_path = train_dir+\"Fire/\"+i\n",
        "#     if (hsv2gray(inp_path, flag=True)):\n",
        "#         file_path.append(inp_path)\n",
        "#         types.append('Fire')\n",
        "\n",
        "# for i in train_no_fire:\n",
        "#     inp_path = train_dir+\"No_Fire/\"+i\n",
        "#     if ~hsv2gray(inp_path):\n",
        "#         file_path.append(inp_path)\n",
        "#         types.append('No_Fire')"
      ],
      "execution_count": null,
      "outputs": []
    },
    {
      "cell_type": "code",
      "metadata": {
        "scrolled": true,
        "id": "PsUN86zqE-nk"
      },
      "source": [
        "# df = pd.DataFrame(data={'file_path':file_path, 'type':types})"
      ],
      "execution_count": null,
      "outputs": []
    },
    {
      "cell_type": "code",
      "metadata": {
        "id": "ziURekmhE-nl"
      },
      "source": [
        "# os.mkdir(\"Training_refined\")\n",
        "# os.mkdir(os.path.join(\"Training_refined\",\"Fire\"))\n",
        "# os.mkdir(os.path.join(\"Training_refined\",\"No_Fire\"))"
      ],
      "execution_count": null,
      "outputs": []
    },
    {
      "cell_type": "code",
      "metadata": {
        "id": "BNHM4810E-nl"
      },
      "source": [
        "# import shutil\n",
        "# for i in (df['file_path'].values):\n",
        "#     if 'No_Fire' in i:\n",
        "#         shutil.copy(i, os.path.join(\"Training_refined\",\"No_Fire\"))\n",
        "#     else:\n",
        "#         shutil.copy(i, os.path.join(\"Training_refined\",\"Fire\"))"
      ],
      "execution_count": null,
      "outputs": []
    },
    {
      "cell_type": "code",
      "metadata": {
        "id": "ynfAmc3vSL-D",
        "scrolled": false,
        "colab": {
          "base_uri": "https://localhost:8080/"
        },
        "outputId": "b1724ff3-d89f-4b42-b3e9-9645dac5123b"
      },
      "source": [
        "train_datagen = ImageDataGenerator(\n",
        "                                   rescale=1.0/255.0, \n",
        "                                   rotation_range=90, \n",
        "                                   horizontal_flip=True, \n",
        "                                   vertical_flip=True,\n",
        "                                   zoom_range=[0.8,1.3],\n",
        "                                  #  brightness_range=[0.7, 1.3],\n",
        "                                   width_shift_range = 0.1,\n",
        "                                   height_shift_range = 0.1,\n",
        "                                   shear_range = 0.1,\n",
        "                                   fill_mode=\"nearest\"\n",
        "                                   ,validation_split=0.000\n",
        "                                  )\n",
        "test_datagen = ImageDataGenerator(rescale=1.0/255.0)\n",
        "\n",
        "train_generator = train_datagen.flow_from_directory(train_dir, \n",
        "                                  batch_size=BATCH_SIZE,\n",
        "                                  target_size=(IMG_SIZE,IMG_SIZE),\n",
        "                                  color_mode=\"rgb\",\n",
        "                                  shuffle = True,\n",
        "                                  class_mode='binary',\n",
        "                                  subset='training'\n",
        "                              )\n",
        "validation_generator = train_datagen.flow_from_directory(train_dir, \n",
        "                                  batch_size=BATCH_SIZE,\n",
        "                                  target_size=(IMG_SIZE,IMG_SIZE),\n",
        "                                  color_mode=\"rgb\",\n",
        "                                  shuffle = True,\n",
        "                                  class_mode='binary',\n",
        "                                  subset='validation'                \n",
        "                                )\n",
        "\n",
        "test_generator = test_datagen.flow_from_directory(test_dir, \n",
        "                                  batch_size=BATCH_SIZE,\n",
        "                                  target_size=(IMG_SIZE,IMG_SIZE),\n",
        "                                  color_mode=\"rgb\",\n",
        "                                  shuffle = False,\n",
        "                                  class_mode='binary'\n",
        "                              )"
      ],
      "execution_count": 8,
      "outputs": [
        {
          "output_type": "stream",
          "text": [
            "Found 8617 images belonging to 2 classes.\n"
          ],
          "name": "stdout"
        }
      ]
    },
    {
      "cell_type": "code",
      "metadata": {
        "colab": {
          "base_uri": "https://localhost:8080/"
        },
        "id": "wpVVX932E-nm",
        "outputId": "d7834544-89a7-4edf-a7e5-b88ac84160c9"
      },
      "source": [
        "test_generator.class_indices"
      ],
      "execution_count": 9,
      "outputs": [
        {
          "output_type": "execute_result",
          "data": {
            "text/plain": [
              "{'Fire': 0, 'No_Fire': 1}"
            ]
          },
          "metadata": {
            "tags": []
          },
          "execution_count": 9
        }
      ]
    },
    {
      "cell_type": "code",
      "metadata": {
        "id": "5xUp7HvuE-nn"
      },
      "source": [
        "# def plotimages(images_arr):\n",
        "#     fix, axes = plt.subplots(2, 3, figsize=(15,10))\n",
        "#     axes = axes.flatten()\n",
        "#     for img, ax in zip(images_arr, axes):\n",
        "#         img = img.astype(np.uint8)\n",
        "#         ax.imshow(img)\n",
        "#         ax.axis('off')\n",
        "#     plt.tight_layout()\n",
        "#     plt.show()\n",
        "\n",
        "# imgs, labels = next(train_generator)\n",
        "# plotimages(imgs)\n",
        "# # print(labels)"
      ],
      "execution_count": null,
      "outputs": []
    },
    {
      "cell_type": "code",
      "metadata": {
        "id": "iqUi3mlVE-nn"
      },
      "source": [
        "input = Input(shape=(IMG_SIZE,IMG_SIZE,3))\n",
        "pretrained = Xception(include_top=False, weights='imagenet', input_tensor=input)\n",
        "output = pretrained.layers[-1].output\n",
        "output = keras.layers.Flatten()(output)\n",
        "pretrained = Model(pretrained.input, output)\n",
        "# pretrained.summary()"
      ],
      "execution_count": null,
      "outputs": []
    },
    {
      "cell_type": "code",
      "metadata": {
        "id": "XDGSJHO0E-nn"
      },
      "source": [
        "last_layer = pretrained.layers[-1].output\n",
        "x = Dropout(0.5, name='dp1')(last_layer)\n",
        "x = Dense(2048, activation='relu', name='fc1')(x)\n",
        "# x = Dense(512, activation='relu', name='fc2')(x)\n",
        "# x = Dropout(0.3, name='dp2')(x)\n",
        "output = Dense(1, activation='sigmoid', name='output')(x)\n",
        "model = Model(input, output)\n",
        "\n",
        "# model.summary()"
      ],
      "execution_count": null,
      "outputs": []
    },
    {
      "cell_type": "code",
      "metadata": {
        "id": "no5H4CoPCm5W",
        "colab": {
          "base_uri": "https://localhost:8080/"
        },
        "outputId": "279d4cad-76ec-4be1-fa4f-6da643c52c38"
      },
      "source": [
        "for layer in model.layers[:-150]:\n",
        "    layer.trainable = False\n",
        "\n",
        "model.compile(loss='binary_crossentropy', optimizer='adam', metrics=['accuracy'])\n",
        "\n",
        "count =0 \n",
        "for layer in model.layers:\n",
        "    if layer.trainable:\n",
        "        count+=1\n",
        "print(count)"
      ],
      "execution_count": null,
      "outputs": [
        {
          "output_type": "stream",
          "text": [
            "150\n"
          ],
          "name": "stdout"
        }
      ]
    },
    {
      "cell_type": "code",
      "metadata": {
        "id": "e8Nm7RWPE-no"
      },
      "source": [
        "callbacks = [EarlyStopping(patience=10, verbose=1, monitor='val_accuracy', mode='max'),\n",
        "             ModelCheckpoint(filepath='inception_17apr.h5', monitor='val_accuracy', verbose=1, save_best_only=True)]\n",
        "history = model.fit(train_generator, \n",
        "                              epochs=100,\n",
        "                              validation_data=test_generator, \n",
        "                              verbose=1,\n",
        "                              callbacks=callbacks)"
      ],
      "execution_count": null,
      "outputs": []
    },
    {
      "cell_type": "code",
      "metadata": {
        "id": "qKeY8Kq-uXQD"
      },
      "source": [
        "# !cp \"/content/inception_17apr.h5\" \"/content/gdrive/MyDrive/DS_Assignment/\""
      ],
      "execution_count": null,
      "outputs": []
    },
    {
      "cell_type": "code",
      "metadata": {
        "id": "e0O81u-LjKUo"
      },
      "source": [
        "plt.plot(history.history['accuracy'])\n",
        "plt.plot(history.history['val_accuracy'])\n",
        "plt.title('model accuracy')\n",
        "plt.ylabel('accuracy')\n",
        "plt.xlabel('epoch')\n",
        "plt.legend(['train', 'test'], loc='upper left')\n",
        "plt.show()"
      ],
      "execution_count": null,
      "outputs": []
    },
    {
      "cell_type": "code",
      "metadata": {
        "id": "DcWLznXOfUxP"
      },
      "source": [
        "# 0: Fire, 1: No Fire\n",
        "\n",
        "def fire_model(input_path):\n",
        "    img_bgr = cv2.imread(input_path)\n",
        "    img_blur = cv2.GaussianBlur(img_bgr.copy(), (1,1), 10)\n",
        "    img_hsv = cv2.cvtColor(img_blur, cv2.COLOR_BGR2HSV)\n",
        "    img_hsv[:,:,2] += 40\n",
        "    mask = cv2.inRange(img_hsv, lower, upper)\n",
        "\n",
        "    if np.any(mask):\n",
        "        return 0\n",
        "    return 1\n",
        "\n",
        "def no_fire_model(input_path):\n",
        "    img_bgr = cv2.imread(input_path)\n",
        "    img_blur = cv2.GaussianBlur(img_bgr.copy(), (1,1), 10)\n",
        "    img_hsv = cv2.cvtColor(img_blur, cv2.COLOR_BGR2HSV)\n",
        "    mask = cv2.inRange(img_hsv, lower, upper)\n",
        "\n",
        "    if np.any(mask):\n",
        "        return 0\n",
        "    return 1"
      ],
      "execution_count": 23,
      "outputs": []
    },
    {
      "cell_type": "code",
      "metadata": {
        "id": "JgzCcYsjfXLe"
      },
      "source": [
        "lower = [0, 100, 100]\n",
        "upper = [35, 255, 255]\n",
        "lower = np.array(lower, dtype=\"uint8\")\n",
        "upper = np.array(upper, dtype=\"uint8\")\n",
        "test_dir = \"/content/Test\"\n",
        "opencv_model = []\n",
        "for i, inp_path in enumerate(test_generator.filenames):\n",
        "  opencv_model.append(no_fire_model(os.path.join(test_dir, inp_path)))\n",
        "  if i%2000 == 0:\n",
        "    print(i)"
      ],
      "execution_count": null,
      "outputs": []
    },
    {
      "cell_type": "code",
      "metadata": {
        "id": "hYxpEalJ9N1J"
      },
      "source": [
        "model = keras.models.load_model('/content/gdrive/MyDrive/tl_best_model_86492.h5')"
      ],
      "execution_count": 10,
      "outputs": []
    },
    {
      "cell_type": "code",
      "metadata": {
        "id": "bkTSGvJLwKV7",
        "colab": {
          "base_uri": "https://localhost:8080/"
        },
        "outputId": "f71585e6-5e26-4107-f23a-2e5445cbf9f5"
      },
      "source": [
        "pred= (model.predict(test_generator, verbose=1) > 0.5).astype(\"int64\")"
      ],
      "execution_count": 13,
      "outputs": [
        {
          "output_type": "stream",
          "text": [
            "1078/1078 [==============================] - 84s 48ms/step\n"
          ],
          "name": "stdout"
        }
      ]
    },
    {
      "cell_type": "code",
      "metadata": {
        "id": "ouj8zxQDjGX6",
        "colab": {
          "base_uri": "https://localhost:8080/"
        },
        "outputId": "e503ade3-fe32-45e7-b186-29e08d708356"
      },
      "source": [
        "labels=(test_generator.classes)\n",
        "print (confusion_matrix(labels, pred.ravel()))\n",
        "print(classification_report(labels, pred.ravel()))"
      ],
      "execution_count": 14,
      "outputs": [
        {
          "output_type": "stream",
          "text": [
            "[[4355  782]\n",
            " [ 382 3098]]\n",
            "              precision    recall  f1-score   support\n",
            "\n",
            "           0       0.92      0.85      0.88      5137\n",
            "           1       0.80      0.89      0.84      3480\n",
            "\n",
            "    accuracy                           0.86      8617\n",
            "   macro avg       0.86      0.87      0.86      8617\n",
            "weighted avg       0.87      0.86      0.87      8617\n",
            "\n"
          ],
          "name": "stdout"
        }
      ]
    },
    {
      "cell_type": "code",
      "metadata": {
        "id": "P9Q30N5ZDsFL"
      },
      "source": [
        "result_df = pd.DataFrame({'file_name':test_generator.filenames, 'transfer_model':pred.ravel() })"
      ],
      "execution_count": 29,
      "outputs": []
    },
    {
      "cell_type": "code",
      "metadata": {
        "id": "2uxRYcENi_0Q"
      },
      "source": [
        "result_df['opencv_model'] = opencv_model"
      ],
      "execution_count": 30,
      "outputs": []
    },
    {
      "cell_type": "code",
      "metadata": {
        "colab": {
          "base_uri": "https://localhost:8080/"
        },
        "id": "cwTu6WBcrQcC",
        "outputId": "bb899198-8826-48ee-bc93-2c49de641c96"
      },
      "source": [
        "print(confusion_matrix(labels, result_df['opencv_model'].values))\n",
        "print(classification_report(labels, result_df['opencv_model'].values))"
      ],
      "execution_count": 36,
      "outputs": [
        {
          "output_type": "stream",
          "text": [
            "[[3699 1438]\n",
            " [  99 3381]]\n",
            "              precision    recall  f1-score   support\n",
            "\n",
            "           0       0.97      0.72      0.83      5137\n",
            "           1       0.70      0.97      0.81      3480\n",
            "\n",
            "    accuracy                           0.82      8617\n",
            "   macro avg       0.84      0.85      0.82      8617\n",
            "weighted avg       0.86      0.82      0.82      8617\n",
            "\n"
          ],
          "name": "stdout"
        }
      ]
    },
    {
      "cell_type": "code",
      "metadata": {
        "id": "rY34w1mHfp8X"
      },
      "source": [
        "result_df['result'] = result_df['opencv_model'] * result_df['transfer_model']"
      ],
      "execution_count": 49,
      "outputs": []
    },
    {
      "cell_type": "code",
      "metadata": {
        "id": "wQTC-8Cbfp4_"
      },
      "source": [
        "# result_df.to_csv('result.csv', index=False)"
      ],
      "execution_count": null,
      "outputs": []
    },
    {
      "cell_type": "code",
      "metadata": {
        "colab": {
          "base_uri": "https://localhost:8080/"
        },
        "id": "25UOr9-nfp2m",
        "outputId": "065809c6-86cf-4890-9f35-bd92fe7897b6"
      },
      "source": [
        "print(confusion_matrix(labels, result_df['result'].values))\n",
        "print(classification_report(labels, result_df['result'].values))"
      ],
      "execution_count": 50,
      "outputs": [
        {
          "output_type": "stream",
          "text": [
            "[[4595  542]\n",
            " [ 457 3023]]\n",
            "              precision    recall  f1-score   support\n",
            "\n",
            "           0       0.91      0.89      0.90      5137\n",
            "           1       0.85      0.87      0.86      3480\n",
            "\n",
            "    accuracy                           0.88      8617\n",
            "   macro avg       0.88      0.88      0.88      8617\n",
            "weighted avg       0.88      0.88      0.88      8617\n",
            "\n"
          ],
          "name": "stdout"
        }
      ]
    }
  ]
}